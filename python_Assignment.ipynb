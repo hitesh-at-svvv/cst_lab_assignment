{
  "nbformat": 4,
  "nbformat_minor": 0,
  "metadata": {
    "colab": {
      "provenance": []
    },
    "kernelspec": {
      "name": "python3",
      "display_name": "Python 3"
    },
    "language_info": {
      "name": "python"
    }
  },
  "cells": [
    {
      "cell_type": "code",
      "source": [
        "# 1. Area of Circle\n",
        "\n",
        "r = int(input('Enter radius : '))\n",
        "print('Area of circle = ', 3.14*r*r)"
      ],
      "metadata": {
        "id": "kGLotpcpA_gV"
      },
      "execution_count": null,
      "outputs": []
    },
    {
      "cell_type": "code",
      "source": [
        "# 2. Take user input for a temperature in Celsius and converts it to Fahrenheit.\n",
        "\n",
        "t = int(input('Enter temperature in Celsius : '))\n",
        "print('Temperature in Fahrenheit = ', 1.8*t+32)"
      ],
      "metadata": {
        "id": "zx-lMhefBwpJ"
      },
      "execution_count": null,
      "outputs": []
    },
    {
      "cell_type": "code",
      "source": [
        "# 3.\tImplement a calculator that performs basic arithmetic operations (addition, subtraction, multiplication, division) based on user input.\n",
        "\n",
        "def calculator():\n",
        "  operation = input('''\n",
        "  Please type out the math operation you would like to complete:\n",
        "  + for addition\n",
        "  - for subtraction\n",
        "  * for multiplication\n",
        "  / for division\n",
        "  ''')\n",
        "\n",
        "  a = int(input('Enter first number : '))\n",
        "  b = int(input('Enter second number : '))\n",
        "\n",
        "  if operation == '+':\n",
        "    print(a + b)\n",
        "\n",
        "  elif operation == '-':\n",
        "    print(a - b)\n",
        "\n",
        "  elif operation == '*':\n",
        "    print(a * b)\n",
        "\n",
        "  elif operation == '/':\n",
        "    if b != 0:\n",
        "      print(a / b)\n",
        "\n",
        "    else:\n",
        "      print('Division by zero is not allowed')\n",
        "\n",
        "  else:\n",
        "    print('Invalid input in operation.')\n",
        "\n",
        "\n",
        "\n",
        "calculator()"
      ],
      "metadata": {
        "id": "6Y_he5d4CO58"
      },
      "execution_count": null,
      "outputs": []
    },
    {
      "cell_type": "code",
      "source": [
        "# 4.\tWrite a program that checks if a number is even or odd\n",
        "\n",
        "n = int(input('Enter a number : '))\n",
        "\n",
        "if n % 2 == 0:\n",
        "  print('Number is even.')\n",
        "\n",
        "else:\n",
        "  print('Number is odd.')"
      ],
      "metadata": {
        "id": "dE0yZZVkGP1i"
      },
      "execution_count": null,
      "outputs": []
    },
    {
      "cell_type": "code",
      "source": [
        "# 5.\tDevelop a function that takes a string as input and returns the string reversed.\n",
        "\n",
        "def reverse(str):\n",
        "  return str[::-1]\n",
        "\n",
        "str1 = input('Enter a string : ')\n",
        "print(reverse(str1))"
      ],
      "metadata": {
        "id": "qKO9WciJG9-U"
      },
      "execution_count": null,
      "outputs": []
    },
    {
      "cell_type": "code",
      "source": [
        "# 6.\tCreate a program that asks the user for their age and prints whether they are a minor, adult, or senior.\n",
        "\n",
        "age = int(input('Enter your age : '))\n",
        "\n",
        "if age < 18:\n",
        "  print('You are a minor.')\n",
        "\n",
        "elif age >= 18 and age < 60:\n",
        "  print('You are an adult.')\n",
        "\n",
        "else:\n",
        "  print('You are a senior.')"
      ],
      "metadata": {
        "id": "aj1lmWsTHby7"
      },
      "execution_count": null,
      "outputs": []
    },
    {
      "cell_type": "code",
      "source": [
        "# 7.\tWrite a program that evaluates three numbers and prints the largest one.\n",
        "\n",
        "a = int(input('Enter 1st number : '))\n",
        "b = int(input('Enter 2nd number : '))\n",
        "c = int(input('Enter 3rd number : '))\n",
        "\n",
        "l = a\n",
        "\n",
        "if b > l:\n",
        "  l = b\n",
        "\n",
        "if c > l:\n",
        "  l = c\n",
        "\n",
        "print('Largest number = ', l)4\n"
      ],
      "metadata": {
        "id": "jGyLhi0fI3JV"
      },
      "execution_count": null,
      "outputs": []
    },
    {
      "cell_type": "code",
      "source": [
        "# 8.\tImplement a program that gives feedback based on a user's score (A, B, C, D, F).\n",
        "\n",
        "score = int(input('Enter your score : '))\n",
        "\n",
        "if score >= 85:\n",
        "  print('Grade A')\n",
        "\n",
        "elif score >= 75:\n",
        "  print('Grade B')\n",
        "\n",
        "elif score >= 60:\n",
        "  print('Grade C')\n",
        "\n",
        "elif score >= 25:\n",
        "  print('Grade D')\n",
        "\n",
        "else:\n",
        "  print('Grade F')"
      ],
      "metadata": {
        "id": "v2-59DgqJf3t"
      },
      "execution_count": null,
      "outputs": []
    },
    {
      "cell_type": "code",
      "source": [
        "# 9.\tWrite a program to check if a year is a leap year.\n",
        "\n",
        "def check_leap_year(year):\n",
        "  if (year % 4 == 0 and year % 100 != 0) or year % 400 == 0:\n",
        "    return True\n",
        "  else:\n",
        "    return False\n",
        "\n",
        "year = int(input('Enter a year : '))\n",
        "\n",
        "if check_leap_year(year):\n",
        "  print(year, 'is a leap year.')\n",
        "\n",
        "else:\n",
        "  print(year, 'is not a leap year.')"
      ],
      "metadata": {
        "id": "x0FmJ2bLKD8F"
      },
      "execution_count": null,
      "outputs": []
    },
    {
      "cell_type": "code",
      "source": [
        "# 10.\tDevelop a simple login system that checks a username and password.\n",
        "\n",
        "def login(Uname, Password):\n",
        "  if Uname == 'admin' and Password == '1234':\n",
        "    return True\n",
        "  else:\n",
        "    return False\n",
        "\n",
        "Uname1 = input('Enter username : ')\n",
        "pass1 = input('Enter password : ')\n",
        "\n",
        "if login(Uname1, pass1):\n",
        "  print('Login successful.')\n",
        "\n",
        "else:\n",
        "  print('Login failed.')"
      ],
      "metadata": {
        "id": "EZ7RAZiiLUYz"
      },
      "execution_count": null,
      "outputs": []
    },
    {
      "cell_type": "code",
      "source": [
        "# 11.\tWrite a Python program that counts the number of vowels in a given string\n",
        "\n",
        "def countVowels(str):\n",
        "  count = 0\n",
        "  vowels = 'aeiouAEIOU'\n",
        "\n",
        "  for char in str:\n",
        "    if char in vowels:\n",
        "      count += 1\n",
        "\n",
        "  return count\n",
        "\n",
        "str1 = input('Enter a string : ')\n",
        "print(countVowels(str1),'vowels')"
      ],
      "metadata": {
        "id": "SAx5emOtMYZe"
      },
      "execution_count": null,
      "outputs": []
    },
    {
      "cell_type": "code",
      "source": [
        "# 12.\tCreate a function that removes all whitespace from a user input string.\n",
        "\n",
        "def remove_whitespace(str):\n",
        "  return str.replace(' ', '')\n",
        "\n",
        "str1 = input('Enter a string : ')\n",
        "print(remove_whitespace(str1))"
      ],
      "metadata": {
        "id": "-_463f_5NgDF"
      },
      "execution_count": null,
      "outputs": []
    },
    {
      "cell_type": "code",
      "source": [
        "# 13.\tImplement a program to check if two strings are anagrams of each other.\n",
        "\n",
        "def check_anagram(str1, str2):\n",
        "  str1 = str1.lower()\n",
        "  str2 = str2.lower()\n",
        "\n",
        "  if sorted(str1) == sorted(str2):\n",
        "    return True\n",
        "  else:\n",
        "    return False\n",
        "\n",
        "str1 = input('Enter 1st string : ')\n",
        "str2 = input('Enter 2nd string : ')\n",
        "\n",
        "if check_anagram(str1, str2):\n",
        "  print('Strings are anagrams.')\n",
        "\n",
        "else:\n",
        "  print('Strings are not anagrams.')"
      ],
      "metadata": {
        "id": "ZOYmwrWuOC8-"
      },
      "execution_count": null,
      "outputs": []
    },
    {
      "cell_type": "code",
      "source": [
        "# 14.\tWrite a program to count the frequency of words in a given sentence.\n",
        "\n",
        "def countWords(str):\n",
        "  words = str.split()\n",
        "  count = {}\n",
        "\n",
        "  for word in words:\n",
        "    if word in count:\n",
        "      count[word] += 1\n",
        "\n",
        "    else:\n",
        "      count[word] = 1\n",
        "\n",
        "  return count\n",
        "\n",
        "sentence1 = input('Enter a Sentence: ')\n",
        "print(countWords(sentence1))"
      ],
      "metadata": {
        "id": "9L9q4cv2RoMc"
      },
      "execution_count": null,
      "outputs": []
    },
    {
      "cell_type": "code",
      "source": [
        "# 15.\tCreate a function that replaces every occurrence of a substring with another substring in a string.\n",
        "\n",
        "def replace_s( str, subs_old, subs_new ):\n",
        "  return str.replace(subs_old, subs_new)\n",
        "\n",
        "str1 = input('Enter a string : ')\n",
        "subs_old = input('Enter substring to be replaced : ')\n",
        "subs_new = input('Enter substring to replace with : ')\n",
        "\n",
        "print(replace_s(str1, subs_old, subs_new))\n"
      ],
      "metadata": {
        "id": "Jppg8nWmTUlB"
      },
      "execution_count": null,
      "outputs": []
    },
    {
      "cell_type": "code",
      "source": [
        "# 16.\tWrite a program that generates the first 10 Fibonacci numbers using iteration.\n",
        "\n",
        "def fab_10():\n",
        "  fib_seq = [0, 1]\n",
        "\n",
        "  for i in range(2,10):\n",
        "    fib_seq.append(fib_seq[i-1] + fib_seq[i-2])\n",
        "\n",
        "  return fib_seq\n",
        "\n",
        "print(fab_10())"
      ],
      "metadata": {
        "id": "_1rLaFWj-yqw"
      },
      "execution_count": null,
      "outputs": []
    },
    {
      "cell_type": "code",
      "source": [
        "# 17.\tCreate a program that sums all even numbers from 1 to 100\n",
        "\n",
        "def sum_even_100():\n",
        "  sum = 0\n",
        "  for i in range(2,101,2):\n",
        "    sum += i\n",
        "\n",
        "  print(sum)\n",
        "\n",
        "sum_even_100()"
      ],
      "metadata": {
        "id": "piYg5ZD_DCFt"
      },
      "execution_count": null,
      "outputs": []
    },
    {
      "cell_type": "code",
      "source": [
        "# 18.\tWrite a Python script that prints the multiplication table of a user-defined number.\n",
        "\n",
        "def multi_table(n):\n",
        "  for i in range(1,11):\n",
        "    print(f'{n} x {i} = {n*i}')\n",
        "\n",
        "n = int(input('Enter number you want to print table of: '))\n",
        "\n",
        "multi_table(n)"
      ],
      "metadata": {
        "id": "eyLSRiT2Eoox"
      },
      "execution_count": null,
      "outputs": []
    },
    {
      "cell_type": "code",
      "source": [
        "# 19.\tDevelop a program that calculates the factorial of a number using a loop.\n",
        "\n",
        "def fact(n):\n",
        "  f = 1\n",
        "\n",
        "  if n < 0:\n",
        "    print('Factorial of negative number does not exist: ')\n",
        "\n",
        "  elif n == 0:\n",
        "    print(f'Factorial of {0} is {1}')\n",
        "  elif n > 0:\n",
        "    for i in range(1,n+1):\n",
        "      f *= i\n",
        "\n",
        "    print(f'Factorial of {n} is {f}')\n",
        "\n",
        "n = int(input('Enter a number: '))\n",
        "fact(n)"
      ],
      "metadata": {
        "id": "SEutumDUGy0a"
      },
      "execution_count": null,
      "outputs": []
    },
    {
      "cell_type": "code",
      "source": [
        "# 20.\tCreate a function that lists all prime numbers up to a specified limit.\n",
        "\n",
        "def list_prime_numbers(limit):\n",
        "  prime_list = []\n",
        "\n",
        "  for num in range(2, limit+1):\n",
        "    is_prime = True\n",
        "    for i in range(2, num):\n",
        "      if num % i == 0:\n",
        "        is_prime = False\n",
        "        break\n",
        "\n",
        "    if is_prime:\n",
        "      prime_list.append(num)\n",
        "\n",
        "  return prime_list\n",
        "\n",
        "limit = int(input('Enter limit: '))\n",
        "print(list_prime_numbers(limit))"
      ],
      "metadata": {
        "id": "OzmjYKtBIYls"
      },
      "execution_count": null,
      "outputs": []
    },
    {
      "cell_type": "code",
      "source": [
        "# 21.\tWrite a function that calculates the greatest common divisor (GCD) of two numbers.\n",
        "\n",
        "def GCD(x,y):\n",
        "    gcd = 1\n",
        "\n",
        "    if y % x == 0:\n",
        "        gcd = x\n",
        "        return gcd\n",
        "\n",
        "    for i in range(int(x/2), 1, -1):\n",
        "        if x % i == 0 and y % i == 0:\n",
        "            gcd = i\n",
        "            return gcd\n",
        "\n",
        "a = int(input('Enter larger number: '))\n",
        "b = int(input('Enter smaller number: '))\n",
        "\n",
        "print(GCD(a,b))"
      ],
      "metadata": {
        "id": "U9C6lGjSM2d_"
      },
      "execution_count": null,
      "outputs": []
    },
    {
      "cell_type": "code",
      "source": [
        "# 22.\tCreate a Python function that takes a list of numbers and returns the largest number.\n",
        "\n",
        "def largest_number(list):\n",
        "  largest = list[0]\n",
        "\n",
        "  for num in list:\n",
        "    if num > largest:\n",
        "      largest = num\n",
        "\n",
        "  return largest\n",
        "\n",
        "list1 = [1,4,8,8,58,65,8,84,84,8,7,4,5,5,5,9,99,4,42,1]\n",
        "print(largest_number(list1))"
      ],
      "metadata": {
        "id": "OE_2ElgAOvK3"
      },
      "execution_count": null,
      "outputs": []
    },
    {
      "cell_type": "code",
      "source": [
        "# 23.\tImplement a function for finding the factorial of a number using recursion.\n",
        "\n",
        "def fact(n):\n",
        "  if n == 0:\n",
        "    return 1\n",
        "  else:\n",
        "    return n * fact(n-1)\n",
        "\n",
        "n = int(input('Enter a number: '))\n",
        "print(fact(n))"
      ],
      "metadata": {
        "id": "739B4O5UQQre"
      },
      "execution_count": null,
      "outputs": []
    },
    {
      "cell_type": "code",
      "source": [
        "# 24.\tWrite a program that utilizes global variables and demonstrates their use in functions.\n",
        "\n",
        "global x\n",
        "\n",
        "def global_var():\n",
        "  print(f'It is {x}, if in function.')\n",
        "\n",
        "x = 10\n",
        "\n",
        "print('This is Global Variable: ')\n",
        "global_var()\n",
        "print(f'It is {x}, even outside the function')"
      ],
      "metadata": {
        "id": "SouX7aArQxmr"
      },
      "execution_count": null,
      "outputs": []
    },
    {
      "cell_type": "code",
      "source": [
        "# 25.\tDevelop a module that contains utility functions for string manipulations.\n",
        "\n",
        "'''\n",
        "We can keep any name for it and save it as a module, such as string_manipulation.py\n",
        "'''\n",
        "def reverse_string(s):\n",
        "    return s[::-1]\n",
        "\n",
        "def is_palindrome(s):\n",
        "    return s == reverse_string(s)\n",
        "\n",
        "def count_vowels(s):\n",
        "    vowels = \"aeiouAEIOU\"\n",
        "    return sum(1 for char in s if char in vowels)\n",
        "\n",
        "def to_title_case(s):\n",
        "  return s.title()\n",
        "\n",
        "def remove_whitespace(s):\n",
        "    return ''.join(s.split())\n",
        "\n",
        "def replace_substring(s, old, new):\n",
        "    return s.replace(old, new)\n",
        "\n",
        "def capitalize_first(s):\n",
        "    return s.capitalize()\n",
        "\n",
        "def word_count(s):\n",
        "    return len(s.split())\n",
        "\n",
        "def is_anagram(s1, s2):\n",
        "    return sorted(s1) == sorted(s2)"
      ],
      "metadata": {
        "id": "stgOvvO8SHZH"
      },
      "execution_count": null,
      "outputs": []
    },
    {
      "cell_type": "code",
      "source": [
        "# 3.\tImplement a calculator that performs basic arithmetic operations (addition, subtraction, multiplication, division) based on user input.\n",
        "\n",
        "class calculator:\n",
        "    def add(a,b):\n",
        "     print(a + b)\n",
        "\n",
        "    def subtract(a,b):\n",
        "      print(a - b)\n",
        "\n",
        "    def multiply(a,b):\n",
        "      print(a * b)\n",
        "\n",
        "    def divide(a,b):\n",
        "      if b != 0:\n",
        "        print(a / b)\n",
        "\n",
        "      elif b == 0:\n",
        "        print('Division by zero is not allowed')\n",
        "\n",
        "      else:\n",
        "        print('Invalid input in operation.')\n",
        "\n",
        "    def  perform():\n",
        "      operation = input('''\n",
        "       Please type out the math operation you would like to perform :\n",
        "       + for addition\n",
        "       - for subtraction\n",
        "       * for multiplication\n",
        "       / for division\n",
        "       ''')\n",
        "\n",
        "      a = int(input('Enter first number : '))\n",
        "      b = int(input('Enter second number : '))\n",
        "\n",
        "      if operation == '+':\n",
        "        calculator.add(a,b)\n",
        "      elif operation == '-':\n",
        "        calculator.subtract(a,b)\n",
        "      elif operation == '*':\n",
        "        calculator.multiply(a,b)\n",
        "      elif operation == '/':\n",
        "        calculator.divide(a,b)\n",
        "      else:\n",
        "         print('Invalid operation.')\n",
        "\n",
        "\n",
        "\n",
        "calculator.perform()"
      ],
      "metadata": {
        "id": "ojVhT-JYVV9q"
      },
      "execution_count": null,
      "outputs": []
    },
    {
      "cell_type": "code",
      "source": [
        "# 26.\tWrite a simple testing script that verifies the functionality of your calculator from a previous assignment.\n",
        "\n",
        "from calculator_3 import calculator\n",
        "\n",
        "\n",
        "def test_add():\n",
        "    assert calculator.add(3, 2) == 5, \"Addition test failed\"\n",
        "    assert calculator.add(-1, 1) == 0, \"Addition test failed\"\n",
        "    assert calculator.add(0, 0) == 0, \"Addition test failed\"\n",
        "    print(\"Addition tests passed\")\n",
        "\n",
        "def test_subtract():\n",
        "    assert calculator.subtract(5, 3) == 2, \"Subtraction test failed\"\n",
        "    assert calculator.subtract(2, 5) == -3, \"Subtraction test failed\"\n",
        "    assert calculator.subtract(0, 0) == 0, \"Subtraction test failed\"\n",
        "    print(\"Subtraction tests passed\")\n",
        "\n",
        "def test_multiply():\n",
        "    assert calculator.multiply(3, 2) == 6, \"Multiplication test failed\"\n",
        "    assert calculator.multiply(0, 5) == 0, \"Multiplication test failed\"\n",
        "    assert calculator.multiply(-2, 4) == -8, \"Multiplication test failed\"\n",
        "    print(\"Multiplication tests passed\")\n",
        "\n",
        "def test_divide():\n",
        "    assert calculator.divide(6, 3) == 2, \"Division test failed\"\n",
        "    assert calculator.divide(7, 2) == 3.5, \"Division test failed\"\n",
        "    assert calculator.divide(1, 0) == \"Error! Division by zero.\", \"Division test failed\"\n",
        "    print(\"Division tests passed\")\n",
        "\n",
        "def run_tests():\n",
        "    test_add()\n",
        "    test_subtract()\n",
        "    test_multiply()\n",
        "    test_divide()\n",
        "    print(\"All tests passed successfully.\")\n",
        "\n",
        "# Run the tests\n",
        "run_tests()\n",
        "\n",
        "\n",
        "\n"
      ],
      "metadata": {
        "id": "cw3Lx061UXW8"
      },
      "execution_count": null,
      "outputs": []
    },
    {
      "cell_type": "code",
      "source": [
        "# 27.\tCreate a program that includes debugging statements to show the flow of execution\n",
        "\n",
        "a = 10    # assigning value 10 in a\n",
        "\n",
        "print('Debugging on 2nd line of code')\n",
        "print('Debugging on 3rd line of code')\n",
        "print('Debugging on 4th line of code')\n",
        "print('Debugging on 5th line of code')"
      ],
      "metadata": {
        "colab": {
          "base_uri": "https://localhost:8080/"
        },
        "id": "C4fMwCQ2eYcc",
        "outputId": "54a45f1b-c8ca-4fe0-f665-69c4dc4ff2e2"
      },
      "execution_count": null,
      "outputs": [
        {
          "output_type": "stream",
          "name": "stdout",
          "text": [
            "Debugging on 2nd line of code\n",
            "Debugging on 3rd line of code\n",
            "Debugging on 4th line of code\n",
            "Debugging on 5th line of code\n"
          ]
        }
      ]
    },
    {
      "cell_type": "code",
      "source": [
        "# 28.\tImplement a function and write unit tests to confirm its correctness using assertions.\n",
        "\n",
        "def is_palindrome(s):\n",
        "    str = s.lower()\n",
        "    return str == str[::-1]\n",
        "\n",
        "def test_is_palindrome():\n",
        "\n",
        "    assert is_palindrome(\"Racecar\") == True\n",
        "    assert is_palindrome(\"Hello\") == False\n",
        "    assert is_palindrome(\"Madam\") == True\n",
        "\n",
        "    print(\"All tests passed successfully.\")\n",
        "\n",
        "test_is_palindrome()"
      ],
      "metadata": {
        "id": "FasoVnmHfrd2"
      },
      "execution_count": null,
      "outputs": []
    },
    {
      "cell_type": "code",
      "source": [
        "# 29.\tWrite a program that intentionally has a bug, and then demonstrate how to fix it.\n",
        "\n",
        "def add(a,b):\n",
        "  return a + b\n",
        "\n",
        "# print(add())  # Bug: We forgot to pass arguments\n",
        "\n",
        "'''\n",
        "Bug:- We forgot to pass arguments while calling of the function , so to fix it we now pass the arguments.\n",
        "'''\n",
        "\n",
        "print(add(5,4))"
      ],
      "metadata": {
        "colab": {
          "base_uri": "https://localhost:8080/"
        },
        "id": "i7XRxNc7lvku",
        "outputId": "6afea2db-d30d-4436-ced5-af3543101920"
      },
      "execution_count": null,
      "outputs": [
        {
          "output_type": "stream",
          "name": "stdout",
          "text": [
            "9\n"
          ]
        }
      ]
    },
    {
      "cell_type": "code",
      "source": [
        "# 30.\tCreate a logging system that tracks function calls and their parameters.\n",
        "\n",
        "import logging\n",
        "\n",
        "# Set up logging configuration\n",
        "logging.basicConfig(level=logging.INFO)\n",
        "\n",
        "def log_function_call(func):\n",
        "    def wrapper(*args, **kwargs):\n",
        "        logging.info(f\"Called {func.__name__} with args: {args}, kwargs: {kwargs}\")\n",
        "        return func(*args, **kwargs)\n",
        "    return wrapper\n",
        "\n",
        "# Example function with logging\n",
        "@log_function_call\n",
        "def add(a, b):\n",
        "    return a + b\n",
        "\n",
        "# Test function call\n",
        "add(3, 5)"
      ],
      "metadata": {
        "id": "mOiKctrJm3eR"
      },
      "execution_count": null,
      "outputs": []
    },
    {
      "cell_type": "code",
      "source": [
        "# 31.\tWrite a Python script to demonstrate the usage of tuples for storing coordinates.\n",
        "\n",
        "# Storing coordinates as tuples\n",
        "point1 = (3, 5)  # (x, y) coordinate\n",
        "point2 = (7, 9)\n",
        "\n",
        "# Accessing tuple elements\n",
        "x1, y1 = point1\n",
        "x2, y2 = point2\n",
        "\n",
        "# Calculating distance between two points\n",
        "distance = ((x2 - x1)**2 + (y2 - y1)**2)**0.5\n",
        "\n",
        "# Printing the coordinates and distance\n",
        "print(f\"Point 1: {point1}\")\n",
        "print(f\"Point 2: {point2}\")\n",
        "print(f\"Distance between points: {distance}\")\n"
      ],
      "metadata": {
        "id": "07an06oeohJZ"
      },
      "execution_count": null,
      "outputs": []
    },
    {
      "cell_type": "code",
      "source": [
        "# 32.\tCreate a program that uses lists and demonstrates mutability by modifying the list items.\n",
        "\n",
        "# Creating a list\n",
        "list1 = [10, 20, 30, 40]\n",
        "\n",
        "# Modifying an item in list\n",
        "list1[2] = 99  # Change the third element\n",
        "\n",
        "# Printing the modified list\n",
        "print(list1)\n"
      ],
      "metadata": {
        "id": "s2uvue6jpEC9"
      },
      "execution_count": null,
      "outputs": []
    }
  ]
}